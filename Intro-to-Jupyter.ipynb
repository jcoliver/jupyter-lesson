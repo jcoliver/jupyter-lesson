{
 "cells": [
  {
   "cell_type": "markdown",
   "metadata": {},
   "source": [
    "# Jupyter Notebooks Introduction\n",
    "  \n",
    "## Description\n",
    "The [Jupyter Notebook](http://jupyter.org) provides a means of creating\n",
    "documents containing text, analyses, data visualizations along with the code\n",
    "used to produce them all. This workshop will provide an introduction to the\n",
    "interface and how it can be used for interactive code development and a means\n",
    "of sharing documents with others.\n",
    "\n",
    "## Learning objectives\n",
    "1. Gain familiarity with the Jupyter Notebook interface and markdown language format\n",
    "2. Use python to create a plot\n",
    "3. Apply interactive programming to data analyses\n",
    "4. Distribute work for reproducibility"
   ]
  },
  {
   "cell_type": "markdown",
   "metadata": {},
   "source": [
    "## Lesson\n",
    "### Overview\n",
    "- Reproducibility\n",
    "- Architecture\n",
    "    - Front-end\n",
    "        - Web application\n",
    "        - Notebook document (.ipynb files)\n",
    "    - Back-end\n",
    "        - Kernel (the language)\n",
    "        - Server (communication between browser & kernel)\n",
    "- Example\n",
    "    - [Modeling earthquake likelihoods](http://nbviewer.jupyter.org/github/cossatot/lanf_earthquake_likelihood/blob/master/notebooks/lanf_manuscript_notebook.ipynb)\n",
    "\n",
    "### First Use\n",
    "- Install [Anaconda](http://continuum.io/downloads) (also installs jupyter notebook)\n",
    "- Start up `jupyter notebook` from Terminal (OS X / Linux) or Command Prompt (Windows)\n",
    "- Create a new notebook using the \"New\" button in the top-right corner.\n",
    "- Select \"Python 3\" under the Notebooks section"
   ]
  },
  {
   "cell_type": "code",
   "execution_count": 1,
   "metadata": {
    "collapsed": false
   },
   "outputs": [
    {
     "name": "stdout",
     "output_type": "stream",
     "text": [
      "hello world!\n"
     ]
    }
   ],
   "source": [
    "print(\"hello world!\")"
   ]
  },
  {
   "cell_type": "markdown",
   "metadata": {},
   "source": [
    "- Add a new cell via Insert > Cell below\n",
    "- Select \"Markdown\" from the dropdown menu (default is \"Code\")"
   ]
  },
  {
   "cell_type": "markdown",
   "metadata": {},
   "source": [
    "This is my first notebook!"
   ]
  },
  {
   "cell_type": "markdown",
   "metadata": {},
   "source": [
    "- Use markdown syntax to add some styling to the code above (enclose the word first in asterisks (*)"
   ]
  },
  {
   "cell_type": "markdown",
   "metadata": {},
   "source": [
    "This is my *first* notebook!"
   ]
  },
  {
   "cell_type": "markdown",
   "metadata": {},
   "source": [
    "### Step back\n",
    "- Reminder - reproducibility!\n",
    "- Organization\n",
    "    - Input -> Code -> Output\n",
    "    - data -> code -> output\n",
    "- Tidy data\n",
    "    - Each *variable* has its own *column*\n",
    "    - Each *observation* has its own *row*"
   ]
  },
  {
   "cell_type": "markdown",
   "metadata": {},
   "source": [
    "### Doing it for real\n",
    "- Create project structure (data, code, output directories)\n",
    "- Download gapminder data [http://tinyurl.com/qb83k3z](http://tinyurl.com/qb83k3z)\n",
    "- Read in data & do quick investigation\n",
    "- Add a markdown block *before* code block (something about what we're doing)\n",
    "- Do a data subset\n",
    "    - Introduce an error that we won't catch until later - subset on a year with\n",
    "    no data (e.g. 2000)\n",
    "- Plot data for the subset\n",
    "    - Fix error caused by subsetting\n",
    "- Send to GitHub?"
   ]
  },
  {
   "cell_type": "markdown",
   "metadata": {},
   "source": [
    "### Closing\n",
    "- Additional questions\n",
    "- Resources\n",
    "    - [jupyter.org](http://jupyter.org)\n",
    "    - [jcoliver.github.io/jupyter-lesson](jcoliver.github.io/jupyter-lesson)\n",
    "    - [Markdown reference](http://jupyter-notebook.readthedocs.io/en/latest/examples/Notebook/Working%20With%20Markdown%20Cells.html)\n",
    "- Examples\n",
    "    - Plotting\n",
    "        - [Linear regression in python](http://nbviewer.jupyter.org/github/jackbrucesimpson/Reference/blob/master/notebooks/practical_ml_2.ipynb)\n",
    "        - [2D and 3D plotting](http://nbviewer.jupyter.org/github/jrjohansson/scientific-python-lectures/blob/master/Lecture-4-Matplotlib.ipynb)\n",
    "    - Case uses of Jupyter Notebooks\n",
    "        - [Psychrometrics](http://nbviewer.jupyter.org/github/jckantor/CBE20255/blob/master/notebooks/Psychrometrics.ipynb)\n",
    "        - [Plotting pitfalls](https://anaconda.org/jbednar/plotting_pitfalls/notebook)\n",
    "        - [XKCD plots in Matplotlib](http://nbviewer.jupyter.org/url/jakevdp.github.com/downloads/notebooks/XKCD_plots.ipynb)\n",
    "        - [Travelling salesman](http://nbviewer.jupyter.org/url/norvig.com/ipython/TSP.ipynb)\n",
    "        - [Modeling earthquake likelihoods](http://nbviewer.jupyter.org/github/cossatot/lanf_earthquake_likelihood/blob/master/notebooks/lanf_manuscript_notebook.ipynb)\n",
    "        - [Fisher's geometric model](http://nbviewer.jupyter.org/url/www.sciencedirect.com/science/MiamiMultiMediaURL/1-s2.0-S0040580914000811/1-s2.0-S0040580914000811-mmc1.txt/272364/FULL/S0040580914000811/471cf02085a52c248dc76ae65ad4409d/mmc1.txt)"
   ]
  }
 ],
 "metadata": {
  "kernelspec": {
   "display_name": "Python 3",
   "language": "python",
   "name": "python3"
  },
  "language_info": {
   "codemirror_mode": {
    "name": "ipython",
    "version": 3
   },
   "file_extension": ".py",
   "mimetype": "text/x-python",
   "name": "python",
   "nbconvert_exporter": "python",
   "pygments_lexer": "ipython3",
   "version": "3.6.0"
  }
 },
 "nbformat": 4,
 "nbformat_minor": 2
}
